{
  "cells": [
    {
      "cell_type": "markdown",
      "source": [
        " \n",
        "####ADDIS ABABA SCIENCE AND TECHNOLOGY UNIVERSITY\n",
        "####College of Electrical and Mechanical Engineering\n",
        "####Departments of Electrical and Computer Engineering\n",
        "######      PG program\n",
        "######Advanced Image and Video Processing \n",
        "######        Project\n",
        "\n",
        "######Python code implementetion for \"AN MR BRAIN IMAGES CLASSIFIER VIA PRINCIPAL COMPONENT ANALYSIS AND KERNEL SUPPORT VECTOR MACHINE\"\n",
        "\n",
        "\n",
        "Done By: Getachew Getu \n",
        "         (FTP0557/10)\n",
        "\n",
        "Submitted to: Ashenafi Y (Ph.D.)\n",
        "\n",
        "Date: February 2023 \n",
        "           \n",
        "\n",
        "\n",
        "\n"
      ],
      "metadata": {
        "id": "6eHWoLQLJe2c"
      }
    },
    {
      "cell_type": "markdown",
      "source": [
        "# **Step1: Data collection**"
      ],
      "metadata": {
        "id": "v4qjQxYohA9c"
      }
    },
    {
      "cell_type": "markdown",
      "source": [
        "###Importing necessary library"
      ],
      "metadata": {
        "id": "XOPMon-_uctj"
      }
    },
    {
      "cell_type": "code",
      "execution_count": 1,
      "metadata": {
        "id": "NK5xwvOpVAgm"
      },
      "outputs": [],
      "source": [
        "import numpy as np\n",
        "import pandas as pd\n",
        "import seaborn as sn\n",
        "import pywt\n",
        "import os\n",
        "import matplotlib.pyplot as plt\n",
        "from sklearn import svm\n",
        "from sklearn.model_selection import train_test_split\n",
        "from sklearn.metrics import classification_report,accuracy_score,confusion_matrix\n",
        "%matplotlib inline"
      ]
    },
    {
      "cell_type": "markdown",
      "metadata": {
        "id": "dVUjg6euVAgo"
      },
      "source": [
        "### Load the dataset"
      ]
    },
    {
      "cell_type": "code",
      "source": [
        "from google.colab import drive\n",
        "drive.mount('/content/drive')"
      ],
      "metadata": {
        "id": "-LklSOYsVNVC",
        "colab": {
          "base_uri": "https://localhost:8080/"
        },
        "outputId": "4c80d8cb-952b-45c9-d11b-189dbcbd4c6b"
      },
      "execution_count": 2,
      "outputs": [
        {
          "output_type": "stream",
          "name": "stdout",
          "text": [
            "Drive already mounted at /content/drive; to attempt to forcibly remount, call drive.mount(\"/content/drive\", force_remount=True).\n"
          ]
        }
      ]
    },
    {
      "cell_type": "code",
      "execution_count": 3,
      "metadata": {
        "id": "z7BMXfIcVAgo"
      },
      "outputs": [],
      "source": [
        "#load the dataset\n",
        "train_path = os.listdir('/content/drive/MyDrive/MR_image/Training/')\n",
        "classes = {'normal':0, 'Malignant':1, 'Benign':2}"
      ]
    },
    {
      "cell_type": "markdown",
      "source": [
        "#**Step2: Preprocessing**"
      ],
      "metadata": {
        "id": "wP6PBSJfu4Rj"
      }
    },
    {
      "cell_type": "code",
      "execution_count": 4,
      "metadata": {
        "id": "e79OMzilVAgp"
      },
      "outputs": [],
      "source": [
        "#resizing them to a dimension of 200x200 \n",
        "#appending them to two lists X (image) and Y (class)\n",
        "\n",
        "import cv2\n",
        "X = []\n",
        "Y = []\n",
        "for cls in classes:\n",
        "    pth = '/content/drive/MyDrive/MR_image/Training/'+cls\n",
        "    for j in os.listdir(pth):\n",
        "        img = cv2.imread(pth+'/'+j, 0)\n",
        "        img = cv2.resize(img, (200,200))\n",
        "        X.append(img)\n",
        "        Y.append(classes[cls])"
      ]
    },
    {
      "cell_type": "markdown",
      "metadata": {
        "id": "NvBVUC4EVAgs"
      },
      "source": [
        "### Visualize data"
      ]
    },
    {
      "cell_type": "code",
      "execution_count": 5,
      "metadata": {
        "id": "TftG9YIyVAgq",
        "colab": {
          "base_uri": "https://localhost:8080/"
        },
        "outputId": "478872be-7b52-410a-8e10-597580b9e40b"
      },
      "outputs": [
        {
          "output_type": "execute_result",
          "data": {
            "text/plain": [
              "array([0, 1, 2])"
            ]
          },
          "metadata": {},
          "execution_count": 5
        }
      ],
      "source": [
        "##converting X and Y into NumPy arrays\n",
        "#reshaping the X array by setting the dimension\n",
        "X = np.array(X)\n",
        "Y = np.array(Y)\n",
        "X_updated = X.reshape(len(X), -1)\n",
        "np.unique(Y)"
      ]
    },
    {
      "cell_type": "code",
      "execution_count": 6,
      "metadata": {
        "colab": {
          "base_uri": "https://localhost:8080/"
        },
        "id": "LU60NyLkVAgr",
        "outputId": "4f7e877e-ba71-49c2-98ae-b6afa6252189"
      },
      "outputs": [
        {
          "output_type": "execute_result",
          "data": {
            "text/plain": [
              "1    13\n",
              "2    11\n",
              "0     5\n",
              "dtype: int64"
            ]
          },
          "metadata": {},
          "execution_count": 6
        }
      ],
      "source": [
        "pd.Series(Y).value_counts()"
      ]
    },
    {
      "cell_type": "code",
      "execution_count": 7,
      "metadata": {
        "colab": {
          "base_uri": "https://localhost:8080/"
        },
        "id": "sH6OO0zvVAgs",
        "outputId": "746cd428-cd17-4a9c-9ba9-d55e5a9889af"
      },
      "outputs": [
        {
          "output_type": "execute_result",
          "data": {
            "text/plain": [
              "((29, 200, 200), (29, 40000))"
            ]
          },
          "metadata": {},
          "execution_count": 7
        }
      ],
      "source": [
        "X.shape, X_updated.shape"
      ]
    },
    {
      "cell_type": "code",
      "execution_count": 8,
      "metadata": {
        "colab": {
          "base_uri": "https://localhost:8080/",
          "height": 286
        },
        "id": "NUxjH7KQVAgs",
        "outputId": "8c8fc94b-c596-4b88-a7a3-a07eecd37984"
      },
      "outputs": [
        {
          "output_type": "execute_result",
          "data": {
            "text/plain": [
              "<matplotlib.image.AxesImage at 0x7f7612ed6d00>"
            ]
          },
          "metadata": {},
          "execution_count": 8
        },
        {
          "output_type": "display_data",
          "data": {
            "text/plain": [
              "<Figure size 432x288 with 1 Axes>"
            ],
            "image/png": "[encoded data removed]"
          },
          "metadata": {
            "needs_background": "light"
          }
        }
      ],
      "source": [
        "plt.imshow(X[0], cmap='gray')"
      ]
    },
    {
      "cell_type": "markdown",
      "metadata": {
        "id": "G4izPJu-VAgt"
      },
      "source": [
        "### Preparing data"
      ]
    },
    {
      "cell_type": "code",
      "execution_count": 9,
      "metadata": {
        "colab": {
          "base_uri": "https://localhost:8080/"
        },
        "id": "ri4nLj9lVAgt",
        "outputId": "8587fa41-13d6-459e-949c-fba5f6587aed"
      },
      "outputs": [
        {
          "output_type": "execute_result",
          "data": {
            "text/plain": [
              "(29, 40000)"
            ]
          },
          "metadata": {},
          "execution_count": 9
        }
      ],
      "source": [
        "#reshaping the array X into 2D array with len(X) rows and an unspecified number of columns \n",
        "\n",
        "X_updated = X.reshape(len(X), -1)\n",
        "X_updated.shape"
      ]
    },
    {
      "cell_type": "code",
      "source": [
        "# Perform 2D discret wavelet on each image\n",
        "import pywt\n",
        "X_dwt = []\n",
        "for i in range(len(X)):\n",
        "    coeffs = pywt.dwt2(X[i], 'haar')\n",
        "    LL, (LH, HL, HH) = coeffs\n",
        "    X_dwt.append(np.concatenate((LL.flatten(), LH.flatten(), HL.flatten(), HH.flatten())))\n",
        "\n",
        "X_dwt = np.array(X_dwt)"
      ],
      "metadata": {
        "id": "VMK-lLA8WEHk"
      },
      "execution_count": 10,
      "outputs": []
    },
    {
      "cell_type": "markdown",
      "metadata": {
        "id": "79WRzXCQVAgu"
      },
      "source": [
        "# **Step3: Train Test Split**"
      ]
    },
    {
      "cell_type": "code",
      "execution_count": 11,
      "metadata": {
        "id": "obncHHz4VAgu"
      },
      "outputs": [],
      "source": [
        "xtrain, xtest, ytrain, ytest = train_test_split(X_dwt, Y, random_state=10,\n",
        "                                               test_size=.20)"
      ]
    },
    {
      "cell_type": "code",
      "execution_count": 12,
      "metadata": {
        "colab": {
          "base_uri": "https://localhost:8080/"
        },
        "id": "kXjthAsnVAgu",
        "outputId": "5448dd89-063b-4d5b-b653-5bd9a6e8c52a"
      },
      "outputs": [
        {
          "output_type": "execute_result",
          "data": {
            "text/plain": [
              "((23, 40000), (6, 40000))"
            ]
          },
          "metadata": {},
          "execution_count": 12
        }
      ],
      "source": [
        "xtrain.shape, xtest.shape"
      ]
    },
    {
      "cell_type": "markdown",
      "source": [
        "###Feature Scaling \n"
      ],
      "metadata": {
        "id": "qYrrcu5vgbEe"
      }
    },
    {
      "cell_type": "code",
      "execution_count": 13,
      "metadata": {
        "colab": {
          "base_uri": "https://localhost:8080/"
        },
        "id": "X9MovRSmVAgv",
        "outputId": "688033e9-e6d8-4ad8-9926-ab18021f8ce9"
      },
      "outputs": [
        {
          "output_type": "stream",
          "name": "stdout",
          "text": [
            "510.00000000000006 -239.5\n",
            "510.00000000000006 -181.50000000000003\n",
            "1.0 0.0\n",
            "1.0 0.0\n"
          ]
        }
      ],
      "source": [
        "#scaling the feature to avoid overfitting\n",
        "print(xtrain.max(), xtrain.min())\n",
        "print(xtest.max(), xtest.min())\n",
        "xtrain = (xtrain - xtrain.min())/(xtrain.max() - xtrain.min())\n",
        "xtest = (xtest - xtest.min())/(xtest.max() - xtest.min())\n",
        "print(xtrain.max(), xtrain.min())\n",
        "print(xtest.max(), xtest.min())"
      ]
    },
    {
      "cell_type": "markdown",
      "source": [
        "Feature Reduction using PCA"
      ],
      "metadata": {
        "id": "s2uwsnWrgoEb"
      }
    },
    {
      "cell_type": "code",
      "execution_count": 14,
      "metadata": {
        "id": "nNn1B-2_VAgv"
      },
      "outputs": [],
      "source": [
        "from sklearn.decomposition import PCA"
      ]
    },
    {
      "cell_type": "code",
      "execution_count": 15,
      "metadata": {
        "colab": {
          "base_uri": "https://localhost:8080/"
        },
        "id": "LghgwlnZVAgw",
        "outputId": "9b8de107-99ef-4702-8a6f-7b54d208475c"
      },
      "outputs": [
        {
          "output_type": "stream",
          "name": "stdout",
          "text": [
            "(23, 40000) (6, 40000)\n"
          ]
        }
      ],
      "source": [
        "print(xtrain.shape, xtest.shape)\n",
        "Principal_component_analysis = PCA(.90)\n",
        "pca_train = Principal_component_analysis.fit_transform(xtrain)\n",
        "pca_test = Principal_component_analysis.transform(xtest)\n",
        "#pca_train = xtrain\n",
        "#pca_test = xtest"
      ]
    },
    {
      "cell_type": "code",
      "execution_count": 16,
      "metadata": {
        "id": "HuTdwuepVAgw",
        "colab": {
          "base_uri": "https://localhost:8080/"
        },
        "outputId": "5abeaf04-4e3a-4e34-d636-dc00d1bde100"
      },
      "outputs": [
        {
          "output_type": "stream",
          "name": "stdout",
          "text": [
            "(23, 16) (6, 16)\n",
            "16\n",
            "40000\n"
          ]
        }
      ],
      "source": [
        "print(pca_train.shape, pca_test.shape)\n",
        "print(Principal_component_analysis.n_components_)\n",
        "print(Principal_component_analysis.n_features_)"
      ]
    },
    {
      "cell_type": "markdown",
      "source": [
        "#**Step4: Model Building and Performance Evaluation**"
      ],
      "metadata": {
        "id": "l3fcyYq1EwMa"
      }
    },
    {
      "cell_type": "markdown",
      "source": [
        "####**A. Logistic Regresion**"
      ],
      "metadata": {
        "id": "EnVOAUyB0BJH"
      }
    },
    {
      "cell_type": "code",
      "execution_count": 17,
      "metadata": {
        "id": "f4vyD8PNVAgw",
        "colab": {
          "base_uri": "https://localhost:8080/"
        },
        "outputId": "44369f05-d587-4e1b-9410-0e9b9726d725"
      },
      "outputs": [
        {
          "output_type": "stream",
          "name": "stderr",
          "text": [
            "/usr/local/lib/python3.8/dist-packages/sklearn/linear_model/_logistic.py:814: ConvergenceWarning: lbfgs failed to converge (status=1):\n",
            "STOP: TOTAL NO. of ITERATIONS REACHED LIMIT.\n",
            "\n",
            "Increase the number of iterations (max_iter) or scale the data as shown in:\n",
            "    https://scikit-learn.org/stable/modules/preprocessing.html\n",
            "Please also refer to the documentation for alternative solver options:\n",
            "    https://scikit-learn.org/stable/modules/linear_model.html#logistic-regression\n",
            "  n_iter_i = _check_optimize_result(\n"
          ]
        }
      ],
      "source": [
        "#create the logestic regression model\n",
        "from sklearn.linear_model import LogisticRegression\n",
        "lr = LogisticRegression(C=0.1)\n",
        "lr.fit(xtrain, ytrain)\n",
        "\n",
        "import warnings\n",
        "warnings.filterwarnings('ignore')\n"
      ]
    },
    {
      "cell_type": "code",
      "source": [
        "print(\"Training Score:\", lr.score(xtrain, ytrain))\n",
        "print(\"Testing Score:\", lr.score(xtest, ytest))"
      ],
      "metadata": {
        "colab": {
          "base_uri": "https://localhost:8080/"
        },
        "id": "lx8fXWnT227K",
        "outputId": "fc80355b-ebfa-419a-b639-3eb10aa8795f"
      },
      "execution_count": 18,
      "outputs": [
        {
          "output_type": "stream",
          "name": "stdout",
          "text": [
            "Training Score: 1.0\n",
            "Testing Score: 0.5\n"
          ]
        }
      ]
    },
    {
      "cell_type": "markdown",
      "source": [
        "####**B. Linear SVM model**"
      ],
      "metadata": {
        "id": "Opz_g_020p-I"
      }
    },
    {
      "cell_type": "code",
      "source": [
        "#create the SVM model using Linear model\n",
        "L_model = svm.SVC( ) \n",
        "L_model.fit(pca_train, ytrain)"
      ],
      "metadata": {
        "colab": {
          "base_uri": "https://localhost:8080/"
        },
        "id": "kHrlegJW1lno",
        "outputId": "237b6fc2-0de6-40c7-c757-e25ca26cc525"
      },
      "execution_count": 19,
      "outputs": [
        {
          "output_type": "execute_result",
          "data": {
            "text/plain": [
              "SVC()"
            ]
          },
          "metadata": {},
          "execution_count": 19
        }
      ]
    },
    {
      "cell_type": "code",
      "source": [
        "print(\"Training Score:\", L_model.score(pca_train, ytrain))\n",
        "print(\"Testing Score:\", L_model.score(pca_test, ytest))"
      ],
      "metadata": {
        "colab": {
          "base_uri": "https://localhost:8080/"
        },
        "id": "y24cOnBu4QNa",
        "outputId": "88525f1c-01b9-4d0c-f02d-4cde7a8917c4"
      },
      "execution_count": 20,
      "outputs": [
        {
          "output_type": "stream",
          "name": "stdout",
          "text": [
            "Training Score: 0.8695652173913043\n",
            "Testing Score: 0.3333333333333333\n"
          ]
        }
      ]
    },
    {
      "cell_type": "markdown",
      "source": [
        "####**C. Honognious Polynomial Kernel SVM (HPOL)**"
      ],
      "metadata": {
        "id": "P3HFAdwp1uLq"
      }
    },
    {
      "cell_type": "code",
      "source": [
        "#create the SVM model using HPOL kernel \n",
        "from sklearn.svm import SVC\n",
        "HPOL = SVC(kernel = 'poly', degree = 4) \n",
        "HPOL.fit(pca_train, ytrain)"
      ],
      "metadata": {
        "colab": {
          "base_uri": "https://localhost:8080/"
        },
        "id": "yuhYbSf22TDL",
        "outputId": "bbeb33b4-c7b2-4fba-a208-b3cb9b886e61"
      },
      "execution_count": 21,
      "outputs": [
        {
          "output_type": "execute_result",
          "data": {
            "text/plain": [
              "SVC(degree=4, kernel='poly')"
            ]
          },
          "metadata": {},
          "execution_count": 21
        }
      ]
    },
    {
      "cell_type": "code",
      "source": [
        "print(\"Training Score:\", HPOL.score(pca_train, ytrain))\n",
        "print(\"Testing Score:\", HPOL.score(pca_test, ytest))"
      ],
      "metadata": {
        "colab": {
          "base_uri": "https://localhost:8080/"
        },
        "id": "XRwhsNyK2ZOq",
        "outputId": "15574adc-36b5-4f4d-a21c-0868b94dec79"
      },
      "execution_count": 22,
      "outputs": [
        {
          "output_type": "stream",
          "name": "stdout",
          "text": [
            "Training Score: 0.8260869565217391\n",
            "Testing Score: 0.3333333333333333\n"
          ]
        }
      ]
    },
    {
      "cell_type": "markdown",
      "source": [],
      "metadata": {
        "id": "WdrIyP7_3O1R"
      }
    },
    {
      "cell_type": "markdown",
      "source": [
        "####**D. Inhomoginious Polynomial Kernel SVM (IPOL)**"
      ],
      "metadata": {
        "id": "UkaA1VLc2AsM"
      }
    },
    {
      "cell_type": "code",
      "source": [
        "#IPOL kernel SVM model training\n",
        "IPOL_model = svm.SVC(kernel='poly', degree = 4, gamma =0.01,  coef0 = 1.0, tol = 0.001)\n",
        "IPOL_model.fit(pca_train, ytrain)"
      ],
      "metadata": {
        "colab": {
          "base_uri": "https://localhost:8080/"
        },
        "id": "fUUOwwZkKTNN",
        "outputId": "41de16d4-ed7b-43df-d3c1-ef4b259b5ccc"
      },
      "execution_count": 23,
      "outputs": [
        {
          "output_type": "execute_result",
          "data": {
            "text/plain": [
              "SVC(coef0=1.0, degree=4, gamma=0.01, kernel='poly')"
            ]
          },
          "metadata": {},
          "execution_count": 23
        }
      ]
    },
    {
      "cell_type": "code",
      "source": [
        "print(\"Training Score:\", IPOL_model.score(pca_train, ytrain))\n",
        "print(\"Testing Score:\", IPOL_model.score(pca_test, ytest))"
      ],
      "metadata": {
        "colab": {
          "base_uri": "https://localhost:8080/"
        },
        "id": "pFvsQNVPnLHN",
        "outputId": "d5648961-2f2d-4434-f709-257b037d93dd"
      },
      "execution_count": 24,
      "outputs": [
        {
          "output_type": "stream",
          "name": "stdout",
          "text": [
            "Training Score: 1.0\n",
            "Testing Score: 0.8333333333333334\n"
          ]
        }
      ]
    },
    {
      "cell_type": "markdown",
      "source": [
        "####**E. Gausian Basic Function Kernel (RBF)**"
      ],
      "metadata": {
        "id": "ISdSsDkI3TDd"
      }
    },
    {
      "cell_type": "code",
      "source": [
        "#RBF model training\n",
        "from sklearn.svm import SVC\n",
        "RBF_model = SVC(kernel='rbf', gamma =0.01, degree = 4 )\n",
        "RBF_model.fit(pca_train, ytrain)"
      ],
      "metadata": {
        "colab": {
          "base_uri": "https://localhost:8080/"
        },
        "id": "DUbZ-DqNI9SL",
        "outputId": "fe908717-14e6-4499-a6c5-9792db62e6b9"
      },
      "execution_count": 25,
      "outputs": [
        {
          "output_type": "execute_result",
          "data": {
            "text/plain": [
              "SVC(degree=4, gamma=0.01)"
            ]
          },
          "metadata": {},
          "execution_count": 25
        }
      ]
    },
    {
      "cell_type": "code",
      "source": [
        "print(\"Training Score:\", RBF_model.score(pca_train, ytrain))\n",
        "print(\"Testing Score:\", RBF_model.score(pca_test, ytest))"
      ],
      "metadata": {
        "colab": {
          "base_uri": "https://localhost:8080/"
        },
        "id": "UGBzmgIjnyke",
        "outputId": "f77d0fd2-0149-49de-f7b1-470bbb7e5525"
      },
      "execution_count": 26,
      "outputs": [
        {
          "output_type": "stream",
          "name": "stdout",
          "text": [
            "Training Score: 0.9565217391304348\n",
            "Testing Score: 0.6666666666666666\n"
          ]
        }
      ]
    },
    {
      "cell_type": "code",
      "source": [
        "#Evaluating Performance on different types of models\n",
        "model = { \"log_regr\":LogisticRegression(C=0.1),\n",
        "         \"HPoL\":SVC(kernel = 'poly', degree = 4),\n",
        "        \"IPoL\":SVC(kernel='poly', degree = 4, gamma =0.01,  coef0 = 1.0, tol = 0.001),    \n",
        "         \"GRB\":SVC(kernel = 'rbf', gamma=0.01,degree = 4),\n",
        "         \"Linear\":SVC()\n",
        "          \n",
        "}\n",
        "\n",
        "results = {}\n",
        "for algo in model:\n",
        "    clf = model[algo]\n",
        "    clf.fit(pca_train,ytrain)\n",
        "    score = clf.score(pca_test,ytest)\n",
        "   # print (\"%s : %s \" %(algo, score))\n",
        "    results[algo] = score\n",
        "print (results)"
      ],
      "metadata": {
        "colab": {
          "base_uri": "https://localhost:8080/"
        },
        "id": "egfA21u5vnj6",
        "outputId": "72fc14e3-7f32-49a3-b911-6b439f08dbfa"
      },
      "execution_count": 27,
      "outputs": [
        {
          "output_type": "stream",
          "name": "stdout",
          "text": [
            "{'log_regr': 0.6666666666666666, 'HPoL': 0.3333333333333333, 'IPoL': 0.8333333333333334, 'GRB': 0.6666666666666666, 'Linear': 0.3333333333333333}\n"
          ]
        }
      ]
    },
    {
      "cell_type": "code",
      "source": [
        "#the best model are \n",
        "X_pred = IPOL_model.predict(pca_test)\n",
        "misclassified=np.where(ytest!=X_pred)\n",
        "misclassified"
      ],
      "metadata": {
        "colab": {
          "base_uri": "https://localhost:8080/"
        },
        "id": "UboLKf3Jv2te",
        "outputId": "9586c403-68a9-46bf-f11f-9c1990771862"
      },
      "execution_count": 28,
      "outputs": [
        {
          "output_type": "execute_result",
          "data": {
            "text/plain": [
              "(array([2]),)"
            ]
          },
          "metadata": {},
          "execution_count": 28
        }
      ]
    },
    {
      "cell_type": "markdown",
      "metadata": {
        "id": "fNQLAjKnVAgy"
      },
      "source": [
        "# **Step 5: Testing data and Classfication**"
      ]
    },
    {
      "cell_type": "code",
      "execution_count": 29,
      "metadata": {
        "id": "JawVGxzZVAgz"
      },
      "outputs": [],
      "source": [
        "dec = {0:'Malignant',1:'normal', 2:'Benign'}"
      ]
    },
    {
      "cell_type": "code",
      "source": [
        "plt.figure(figsize=(12,8))\n",
        "p = os.listdir('/content/drive/MyDrive/MR_image/Testing')\n",
        "c=1\n",
        "file_pat = '/content/drive/MyDrive/MR_image/Testing/normal/'\n",
        "for i in os.listdir('/content/drive/MyDrive/MR_image/Testing/normal/')[:2]:\n",
        "    plt.subplot(3,3,c)\n",
        "    \n",
        "    img = cv2.imread(file_pat+i,0)\n",
        "    img1 = cv2.resize(img, (4,4))\n",
        "    img1 = img1.reshape(1,-1)/255\n",
        "    p = IPOL_model.predict(img1)\n",
        "    plt.title(dec[p[0]])\n",
        "    plt.imshow(img, cmap='gray')\n",
        "    plt.axis('off')\n",
        "    c+=1"
      ],
      "metadata": {
        "colab": {
          "base_uri": "https://localhost:8080/",
          "height": 175
        },
        "id": "oqk4E8wRKyto",
        "outputId": "7e1324bf-1a64-4db4-fef6-762f11bd186a"
      },
      "execution_count": 30,
      "outputs": [
        {
          "output_type": "display_data",
          "data": {
            "text/plain": [
              "<Figure size 864x576 with 2 Axes>"
            ],
            "image/png": "[encoded data removed]"
          },
          "metadata": {
            "needs_background": "light"
          }
        }
      ]
    }
  ],
  "metadata": {
    "kernelspec": {
      "display_name": "Python 3",
      "language": "python",
      "name": "python3"
    },
    "language_info": {
      "codemirror_mode": {
        "name": "ipython",
        "version": 3
      },
      "file_extension": ".py",
      "mimetype": "text/x-python",
      "name": "python",
      "nbconvert_exporter": "python",
      "pygments_lexer": "ipython3",
      "version": "3.8.5"
    },
    "colab": {
      "provenance": []
    }
  },
  "nbformat": 4,
  "nbformat_minor": 0
}